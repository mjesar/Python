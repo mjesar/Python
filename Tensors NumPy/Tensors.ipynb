{
 "cells": [
  {
   "cell_type": "code",
   "execution_count": 27,
   "metadata": {
    "collapsed": true
   },
   "outputs": [],
   "source": [
    " import numpy as np \n"
   ]
  },
  {
   "cell_type": "code",
   "execution_count": null,
   "metadata": {
    "collapsed": true
   },
   "outputs": [],
   "source": [
    "x= np.array(9);\n",
    "x\n"
   ]
  },
  {
   "cell_type": "code",
   "execution_count": 7,
   "metadata": {},
   "outputs": [
    {
     "data": {
      "text/plain": [
       "0"
      ]
     },
     "execution_count": 7,
     "metadata": {},
     "output_type": "execute_result"
    }
   ],
   "source": [
    "x.ndim"
   ]
  },
  {
   "cell_type": "code",
   "execution_count": 9,
   "metadata": {},
   "outputs": [
    {
     "data": {
      "text/plain": [
       "1"
      ]
     },
     "execution_count": 9,
     "metadata": {},
     "output_type": "execute_result"
    }
   ],
   "source": [
    "x=np.array([12,14,15,156])\n",
    "x.ndim"
   ]
  },
  {
   "cell_type": "code",
   "execution_count": 21,
   "metadata": {},
   "outputs": [
    {
     "data": {
      "text/plain": [
       "2"
      ]
     },
     "execution_count": 21,
     "metadata": {},
     "output_type": "execute_result"
    }
   ],
   "source": [
    "x= np.array([[1,2,3,4,5,69,99,71],\n",
    "            [4,3,2,1,4,56,2,11],\n",
    "            [2,3,4,5,2,22,54,43]])\n",
    "x.ndim"
   ]
  },
  {
   "cell_type": "code",
   "execution_count": 26,
   "metadata": {},
   "outputs": [
    {
     "data": {
      "text/plain": [
       "array([[[ 1,  2,  3,  4,  5, 69, 99, 71],\n",
       "        [ 4,  3,  2,  1,  4, 56,  2, 11],\n",
       "        [ 2,  3,  4,  5,  2, 22, 54, 43]],\n",
       "\n",
       "       [[ 1,  2,  3,  4,  5, 69, 99, 71],\n",
       "        [ 4,  3,  2,  1,  4, 56,  2, 11],\n",
       "        [ 2,  3,  4,  5,  2, 22, 54, 43]],\n",
       "\n",
       "       [[ 1,  2,  3,  4,  5, 69, 99, 71],\n",
       "        [ 4,  3,  2,  1,  4, 56,  2, 11],\n",
       "        [ 2,  3,  4,  5,  2, 22, 54, 43]]])"
      ]
     },
     "execution_count": 26,
     "metadata": {},
     "output_type": "execute_result"
    }
   ],
   "source": [
    "x= np.array([[[1,2,3,4,5,69,99,71],\n",
    "            [4,3,2,1,4,56,2,11],\n",
    "            [2,3,4,5,2,22,54,43]],\n",
    "           [[1,2,3,4,5,69,99,71],\n",
    "            [4,3,2,1,4,56,2,11],\n",
    "            [2,3,4,5,2,22,54,43]],\n",
    "           [[1,2,3,4,5,69,99,71],\n",
    "            [4,3,2,1,4,56,2,11],\n",
    "            [2,3,4,5,2,22,54,43]]])\n",
    "x.ndim\n",
    "x"
   ]
  },
  {
   "cell_type": "code",
   "execution_count": null,
   "metadata": {
    "collapsed": true
   },
   "outputs": [],
   "source": []
  }
 ],
 "metadata": {
  "kernelspec": {
   "display_name": "Python 3",
   "language": "python",
   "name": "python3"
  },
  "language_info": {
   "codemirror_mode": {
    "name": "ipython",
    "version": 3
   },
   "file_extension": ".py",
   "mimetype": "text/x-python",
   "name": "python",
   "nbconvert_exporter": "python",
   "pygments_lexer": "ipython3",
   "version": "3.6.3"
  }
 },
 "nbformat": 4,
 "nbformat_minor": 2
}
