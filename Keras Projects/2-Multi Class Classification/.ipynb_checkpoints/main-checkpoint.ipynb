{
 "cells": [
  {
   "cell_type": "code",
   "execution_count": 2,
   "metadata": {},
   "outputs": [],
   "source": [
    "import pandas\n",
    "import numpy as np\n",
    "from keras import layers\n",
    "from keras import models\n",
    "from keras.models import Sequential\n",
    "from keras.layers import Dense\n",
    "from keras.wrappers.scikit_learn import KerasClassifier\n",
    "from keras.utils import np_utils\n",
    "from sklearn.model_selection import cross_val_score\n",
    "from sklearn.model_selection import KFold\n",
    "from sklearn.preprocessing import LabelEncoder\n",
    "from sklearn.pipeline import Pipeline\n",
    "\n",
    "from keras.utils import plot_model\n",
    "\n",
    "import pydot\n"
   ]
  },
  {
   "cell_type": "code",
   "execution_count": 3,
   "metadata": {},
   "outputs": [],
   "source": [
    "seed = 7 \n",
    "np.random.seed(seed)"
   ]
  },
  {
   "cell_type": "code",
   "execution_count": 4,
   "metadata": {},
   "outputs": [
    {
     "data": {
      "text/plain": [
       "(149, 4)"
      ]
     },
     "execution_count": 4,
     "metadata": {},
     "output_type": "execute_result"
    }
   ],
   "source": [
    "dataframe = pandas.read_csv('iris.csv')\n",
    "dataset = dataframe.values\n",
    "X=dataset[:,0:4].astype(float)\n",
    "Y=dataset[:,4]\n",
    "X.shape"
   ]
  },
  {
   "cell_type": "code",
   "execution_count": 5,
   "metadata": {},
   "outputs": [],
   "source": [
    "encoder= LabelEncoder()\n",
    "encoder.fit(Y)\n",
    "encoded_Y = encoder.transform(Y)\n",
    "dummy_y = np_utils.to_categorical(encoded_Y)\n"
   ]
  },
  {
   "cell_type": "code",
   "execution_count": 6,
   "metadata": {},
   "outputs": [],
   "source": [
    "def baseline_model():\n",
    "    \n",
    "    model= models.Sequential()\n",
    "    model.add(layers.Dense(8, activation='relu',input_shape=(4,)))\n",
    "    model.add(layers.Dense(3,activation='softmax'))\n",
    "    model.compile(optimizer='adam',\n",
    "                  loss='categorical_crossentropy',\n",
    "                  metrics=['accuracy'])\n",
    "    \n",
    "   # plot_model(model, to_file='multilayer_perceptron_graph.png')\n",
    "    return model\n"
   ]
  },
  {
   "cell_type": "code",
   "execution_count": 7,
   "metadata": {},
   "outputs": [
    {
     "name": "stdout",
     "output_type": "stream",
     "text": [
      "Result: 96.62%(4.51%)\n"
     ]
    }
   ],
   "source": [
    "estimator= KerasClassifier(build_fn=baseline_model,epochs=200,batch_size=5,verbose=0)\n",
    "kfold= KFold(n_splits=10,shuffle=True,random_state=seed)\n",
    "results= cross_val_score(estimator,X,dummy_y,cv=kfold)\n",
    "print(\"Result: %.2f%%(%.2f%%)\"%(results.mean()*100,results.std()*100))"
   ]
  },
  {
   "cell_type": "markdown",
   "metadata": {},
   "source": [
    "Step 5 Tunning making model smaller and larger "
   ]
  },
  {
   "cell_type": "code",
   "execution_count": 8,
   "metadata": {},
   "outputs": [],
   "source": [
    "def baseline_model_larger():\n",
    "    \n",
    "    model= models.Sequential()\n",
    "    model.add(layers.Dense(8, activation='relu',input_shape=(4,)))\n",
    "    model.add(layers.Dense(8,activation='relu'))\n",
    "    model.add(layers.Dense(8,activation='relu'))\n",
    "    model.add(layers.Dense(8,activation='relu'))\n",
    "\n",
    "    model.add(layers.Dense(3,activation='softmax'))\n",
    "    model.compile(optimizer='adam',\n",
    "                  loss='categorical_crossentropy',\n",
    "                  metrics=['accuracy'])\n",
    "    \n",
    "   # plot_model(model, to_file='multilayer_perceptron_graph.png')\n",
    "    return model"
   ]
  },
  {
   "cell_type": "code",
   "execution_count": 9,
   "metadata": {},
   "outputs": [
    {
     "name": "stdout",
     "output_type": "stream",
     "text": [
      "Result: 96.67%(4.47%)\n"
     ]
    }
   ],
   "source": [
    "estimator= KerasClassifier(build_fn=baseline_model_larger,epochs=200,batch_size=5,verbose=0)\n",
    "kfold= KFold(n_splits=10,shuffle=True,random_state=seed)\n",
    "results= cross_val_score(estimator,X,dummy_y,cv=kfold)\n",
    "print(\"Result: %.2f%%(%.2f%%)\"%(results.mean()*100,results.std()*100))"
   ]
  },
  {
   "cell_type": "code",
   "execution_count": 10,
   "metadata": {},
   "outputs": [],
   "source": [
    "def baseline_model_smaler():\n",
    "    \n",
    "    model= models.Sequential()\n",
    "    model.add(layers.Dense(2, activation='relu',input_shape=(4,)))\n",
    "    model.add(layers.Dense(3,activation='softmax'))\n",
    "    model.compile(optimizer='adam',\n",
    "                  loss='categorical_crossentropy',\n",
    "                  metrics=['accuracy'])\n",
    "    \n",
    "   # plot_model(model, to_file='multilayer_perceptron_graph.png')\n",
    "    return model"
   ]
  },
  {
   "cell_type": "code",
   "execution_count": 11,
   "metadata": {},
   "outputs": [
    {
     "name": "stdout",
     "output_type": "stream",
     "text": [
      "Result: 74.14%(32.49%)\n"
     ]
    }
   ],
   "source": [
    "estimator= KerasClassifier(build_fn=baseline_model_smaler,epochs=200,batch_size=5,verbose=0)\n",
    "kfold= KFold(n_splits=10,shuffle=True,random_state=seed)\n",
    "results= cross_val_score(estimator,X,dummy_y,cv=kfold)\n",
    "print(\"Result: %.2f%%(%.2f%%)\"%(results.mean()*100,results.std()*100))"
   ]
  },
  {
   "cell_type": "markdown",
   "metadata": {},
   "source": [
    "Step 6 overfit"
   ]
  },
  {
   "cell_type": "code",
   "execution_count": 12,
   "metadata": {},
   "outputs": [],
   "source": [
    "def baseline_model_overfit():\n",
    "    \n",
    "    model= models.Sequential()\n",
    "    model.add(layers.Dense(16, activation='relu',input_shape=(4,)))\n",
    "    model.add(layers.Dense(16,activation='relu'))\n",
    "    model.add(layers.Dense(16,activation='relu'))\n",
    "    model.add(layers.Dense(16,activation='relu'))\n",
    "\n",
    "    model.add(layers.Dense(3,activation='softmax'))\n",
    "    model.compile(optimizer='adam',\n",
    "                  loss='categorical_crossentropy',\n",
    "                  metrics=['accuracy'])\n",
    "    \n",
    "   # plot_model(model, to_file='multilayer_perceptron_graph.png')\n",
    "    return model"
   ]
  },
  {
   "cell_type": "code",
   "execution_count": 16,
   "metadata": {},
   "outputs": [
    {
     "name": "stdout",
     "output_type": "stream",
     "text": [
      "Result: 96.62%(4.51%)\n"
     ]
    }
   ],
   "source": [
    "estimator= KerasClassifier(build_fn=baseline_model_overfit,epochs=400,batch_size=5,verbose=0)\n",
    "kfold= KFold(n_splits=10,shuffle=True,random_state=seed)\n",
    "results= cross_val_score(estimator,X,dummy_y,cv=kfold)\n",
    "print(\"Result: %.2f%%(%.2f%%)\"%(results.mean()*100,results.std()*100))"
   ]
  },
  {
   "cell_type": "markdown",
   "metadata": {},
   "source": [
    "step 7 tune with optimzer and change no off epochs"
   ]
  },
  {
   "cell_type": "code",
   "execution_count": 20,
   "metadata": {},
   "outputs": [],
   "source": [
    "def baseline_model_more_tuned():\n",
    "    \n",
    "    model= models.Sequential()\n",
    "    model.add(layers.Dense(4, activation='relu',input_shape=(4,)))\n",
    "    model.add(layers.Dense(3,activation='softmax'))\n",
    "    model.compile(optimizer='rmsprop',\n",
    "                  loss='categorical_crossentropy',\n",
    "                  metrics=['accuracy'])\n",
    "    \n",
    "   # plot_model(model, to_file='multilayer_perceptron_graph.png')\n",
    "    return model"
   ]
  },
  {
   "cell_type": "code",
   "execution_count": 21,
   "metadata": {},
   "outputs": [
    {
     "name": "stdout",
     "output_type": "stream",
     "text": [
      "Result: 94.67%(4.99%)\n"
     ]
    }
   ],
   "source": [
    "estimator= KerasClassifier(build_fn=baseline_model_more_tuned,epochs=100,batch_size=5,verbose=0)\n",
    "kfold= KFold(n_splits=10,shuffle=True,random_state=seed)\n",
    "results= cross_val_score(estimator,X,dummy_y,cv=kfold)\n",
    "print(\"Result: %.2f%%(%.2f%%)\"%(results.mean()*100,results.std()*100))"
   ]
  },
  {
   "cell_type": "markdown",
   "metadata": {},
   "source": [
    "Step 8 fucntional api"
   ]
  },
  {
   "cell_type": "code",
   "execution_count": 28,
   "metadata": {},
   "outputs": [],
   "source": [
    "from keras.layers import Input\n",
    "from keras.layers import Dense\n",
    "from keras.models import Model\n",
    "\n",
    "def create_model_with_functionalAPI():\n",
    "    \n",
    "    visible = Input(shape=(4,))\n",
    "    hidden = Dense(8, activation='relu')(visible)\n",
    "    output = Dense(3, activation='softmax')(hidden)\n",
    "    model = Model(inputs=visible,outputs=output)\n",
    "  \n",
    "    model.compile(optimizer='adam',\n",
    "    loss='binary_crossentropy',\n",
    "    metrics=['accuracy'])\n",
    "    return model"
   ]
  },
  {
   "cell_type": "code",
   "execution_count": 29,
   "metadata": {},
   "outputs": [
    {
     "name": "stdout",
     "output_type": "stream",
     "text": [
      "Result: 98.22%(2.95%)\n"
     ]
    }
   ],
   "source": [
    "estimator= KerasClassifier(build_fn=create_model_with_functionalAPI,epochs=100,batch_size=5,verbose=0)\n",
    "kfold= KFold(n_splits=10,shuffle=True,random_state=seed)\n",
    "results= cross_val_score(estimator,X,dummy_y,cv=kfold)\n",
    "print(\"Result: %.2f%%(%.2f%%)\"%(results.mean()*100,results.std()*100))"
   ]
  },
  {
   "cell_type": "markdown",
   "metadata": {},
   "source": [
    "Step 10: Without sklearn"
   ]
  },
  {
   "cell_type": "code",
   "execution_count": 35,
   "metadata": {},
   "outputs": [
    {
     "name": "stdout",
     "output_type": "stream",
     "text": [
      "processing fold # 0\n",
      "processing fold # 1\n",
      "processing fold # 2\n",
      "processing fold # 3\n",
      "processing fold # 4\n",
      "processing fold # 5\n",
      "processing fold # 6\n",
      "processing fold # 7\n",
      "processing fold # 8\n",
      "processing fold # 9\n"
     ]
    }
   ],
   "source": [
    "import numpy as np\n",
    "k = 10\n",
    "data = len(X) // k\n",
    "num_epochs = 200\n",
    "all_scores = []\n",
    "val_loss=[]\n",
    "val_acc=[]\n",
    "for i in range(k):\n",
    "    print('processing fold #', i)\n",
    "    val_data = X[i * data: (i + 1) * data]\n",
    "    val_targets = dummy_y[i * data: (i + 1) * data]\n",
    "    \n",
    "    partial_train_data = np.concatenate([X[:i * data],X[(i + 1) * data:]],axis=0)\n",
    "    partial_train_targets = np.concatenate([dummy_y [:i * data],dummy_y[(i + 1) * data:]],axis=0)\n",
    "    \n",
    "    model = baseline_model()\n",
    "    model.fit(partial_train_data, partial_train_targets,shuffle=True,epochs=num_epochs, batch_size=5, verbose=0)\n",
    "    \n",
    "    results6 = model.evaluate(val_data,val_targets, verbose=0)\n",
    "    \n",
    "    val_loss.append(results6[0])\n",
    "    val_acc.append(results6[1])\n",
    "    "
   ]
  },
  {
   "cell_type": "code",
   "execution_count": 37,
   "metadata": {},
   "outputs": [
    {
     "name": "stdout",
     "output_type": "stream",
     "text": [
      "Result: 95.00%(0.08%)\n"
     ]
    }
   ],
   "source": [
    "print(\"Result: %.2f%%(%.2f%%)\"%(np.mean(val_acc)*100,np.std(val_acc)))"
   ]
  },
  {
   "cell_type": "code",
   "execution_count": null,
   "metadata": {},
   "outputs": [],
   "source": []
  }
 ],
 "metadata": {
  "kernelspec": {
   "display_name": "Python 3",
   "language": "python",
   "name": "python3"
  },
  "language_info": {
   "codemirror_mode": {
    "name": "ipython",
    "version": 3
   },
   "file_extension": ".py",
   "mimetype": "text/x-python",
   "name": "python",
   "nbconvert_exporter": "python",
   "pygments_lexer": "ipython3",
   "version": "3.6.4"
  }
 },
 "nbformat": 4,
 "nbformat_minor": 2
}
