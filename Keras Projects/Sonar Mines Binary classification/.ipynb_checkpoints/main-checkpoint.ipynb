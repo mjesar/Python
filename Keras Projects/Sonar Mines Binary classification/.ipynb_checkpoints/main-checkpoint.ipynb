{
 "cells": [
  {
   "cell_type": "code",
   "execution_count": 1,
   "metadata": {},
   "outputs": [
    {
     "name": "stderr",
     "output_type": "stream",
     "text": [
      "Using TensorFlow backend.\n"
     ]
    }
   ],
   "source": [
    "import pandas\n",
    "import numpy\n",
    "from keras import models\n",
    "from keras import layers\n",
    "from keras.models import Sequential\n",
    "from keras.layers import Dense \n",
    "from keras.wrappers.scikit_learn import KerasClassifier\n",
    "from sklearn.model_selection import cross_val_score\n",
    "from sklearn.preprocessing import LabelEncoder\n",
    "from sklearn.model_selection import StratifiedKFold\n",
    "from sklearn.preprocessing import StandardScaler\n",
    "from sklearn.pipeline import Pipeline"
   ]
  },
  {
   "cell_type": "code",
   "execution_count": 2,
   "metadata": {},
   "outputs": [],
   "source": [
    "seed = 7 \n",
    "numpy.random.seed(seed)"
   ]
  },
  {
   "cell_type": "code",
   "execution_count": 3,
   "metadata": {},
   "outputs": [],
   "source": [
    "dataframe= pandas.read_csv(\"sonar.csv\", header=None)\n",
    "dataset= dataframe.values\n"
   ]
  },
  {
   "cell_type": "code",
   "execution_count": 4,
   "metadata": {},
   "outputs": [
    {
     "data": {
      "text/plain": [
       "(208, 61)"
      ]
     },
     "execution_count": 4,
     "metadata": {},
     "output_type": "execute_result"
    }
   ],
   "source": [
    "dataset.shape"
   ]
  },
  {
   "cell_type": "code",
   "execution_count": 5,
   "metadata": {},
   "outputs": [
    {
     "data": {
      "text/plain": [
       "array([[0.02  , 0.0371, 0.0428, ..., 0.0084, 0.009 , 0.0032],\n",
       "       [0.0453, 0.0523, 0.0843, ..., 0.0049, 0.0052, 0.0044],\n",
       "       [0.0262, 0.0582, 0.1099, ..., 0.0164, 0.0095, 0.0078],\n",
       "       ...,\n",
       "       [0.0522, 0.0437, 0.018 , ..., 0.0138, 0.0077, 0.0031],\n",
       "       [0.0303, 0.0353, 0.049 , ..., 0.0079, 0.0036, 0.0048],\n",
       "       [0.026 , 0.0363, 0.0136, ..., 0.0036, 0.0061, 0.0115]])"
      ]
     },
     "execution_count": 5,
     "metadata": {},
     "output_type": "execute_result"
    }
   ],
   "source": [
    "X=dataset[:,0:60].astype(float)\n",
    "Y= dataset[:,60]\n",
    "X"
   ]
  },
  {
   "cell_type": "code",
   "execution_count": 6,
   "metadata": {},
   "outputs": [
    {
     "data": {
      "text/plain": [
       "array([1, 1, 1, 1, 1, 1, 1, 1, 1, 1, 1, 1, 1, 1, 1, 1, 1, 1, 1, 1, 1, 1,\n",
       "       1, 1, 1, 1, 1, 1, 1, 1, 1, 1, 1, 1, 1, 1, 1, 1, 1, 1, 1, 1, 1, 1,\n",
       "       1, 1, 1, 1, 1, 1, 1, 1, 1, 1, 1, 1, 1, 1, 1, 1, 1, 1, 1, 1, 1, 1,\n",
       "       1, 1, 1, 1, 1, 1, 1, 1, 1, 1, 1, 1, 1, 1, 1, 1, 1, 1, 1, 1, 1, 1,\n",
       "       1, 1, 1, 1, 1, 1, 1, 1, 1, 0, 0, 0, 0, 0, 0, 0, 0, 0, 0, 0, 0, 0,\n",
       "       0, 0, 0, 0, 0, 0, 0, 0, 0, 0, 0, 0, 0, 0, 0, 0, 0, 0, 0, 0, 0, 0,\n",
       "       0, 0, 0, 0, 0, 0, 0, 0, 0, 0, 0, 0, 0, 0, 0, 0, 0, 0, 0, 0, 0, 0,\n",
       "       0, 0, 0, 0, 0, 0, 0, 0, 0, 0, 0, 0, 0, 0, 0, 0, 0, 0, 0, 0, 0, 0,\n",
       "       0, 0, 0, 0, 0, 0, 0, 0, 0, 0, 0, 0, 0, 0, 0, 0, 0, 0, 0, 0, 0, 0,\n",
       "       0, 0, 0, 0, 0, 0, 0, 0, 0, 0], dtype=int64)"
      ]
     },
     "execution_count": 6,
     "metadata": {},
     "output_type": "execute_result"
    }
   ],
   "source": [
    "le = LabelEncoder()\n",
    "le=le.fit_transform(Y)\n",
    "le"
   ]
  },
  {
   "cell_type": "code",
   "execution_count": 7,
   "metadata": {},
   "outputs": [],
   "source": [
    "def create_baseline ():\n",
    "    model = models.Sequential()\n",
    "    model.add(layers.Dense(16, activation='relu', input_shape=(60,)))\n",
    "    model.add(layers.Dense(16, activation='relu'))\n",
    "    model.add(layers.Dense(1, activation='sigmoid'))\n",
    "\n",
    "    \n",
    "\n",
    "    model.compile(optimizer='adam',\n",
    "    loss='binary_crossentropy',\n",
    "    metrics=['accuracy'])\n",
    "    return model\n",
    "    "
   ]
  },
  {
   "cell_type": "code",
   "execution_count": 8,
   "metadata": {},
   "outputs": [
    {
     "name": "stdout",
     "output_type": "stream",
     "text": [
      "Result: 83.16%(5.93%)\n"
     ]
    }
   ],
   "source": [
    "estimator= KerasClassifier(build_fn=create_baseline,epochs=100,batch_size=5,verbose=0)\n",
    "kfold= StratifiedKFold(n_splits=10,shuffle=True,random_state=seed)\n",
    "results = cross_val_score(estimator,X,le,cv=kfold)\n",
    "print(\"Result: %.2f%%(%.2f%%)\"%(results.mean()*100,results.std()*100))"
   ]
  },
  {
   "cell_type": "markdown",
   "metadata": {},
   "source": [
    "# StandardScaler"
   ]
  },
  {
   "cell_type": "code",
   "execution_count": 9,
   "metadata": {},
   "outputs": [
    {
     "name": "stdout",
     "output_type": "stream",
     "text": [
      "Result: 87.47%(6.87%)\n"
     ]
    }
   ],
   "source": [
    "estimator1=[]\n",
    "estimator1.append(('standarize',StandardScaler()))\n",
    "estimator1.append(('mlp',KerasClassifier(build_fn=create_baseline,epochs=100,batch_size=5,verbose=0)))\n",
    "pipeline= Pipeline(estimator1)\n",
    "kfold = StratifiedKFold(n_splits=10,shuffle=True,random_state=seed)\n",
    "results1= cross_val_score(pipeline,X,le,cv=kfold)\n",
    "print(\"Result: %.2f%%(%.2f%%)\"%(results1.mean()*100,results1.std()*100))"
   ]
  },
  {
   "cell_type": "code",
   "execution_count": 10,
   "metadata": {},
   "outputs": [],
   "source": [
    "#Tunning \n",
    "#60 inputs -> [60 -> 30] -> 1 output"
   ]
  },
  {
   "cell_type": "code",
   "execution_count": 11,
   "metadata": {},
   "outputs": [],
   "source": [
    "def create_baseline1 ():\n",
    "    model = models.Sequential()\n",
    "    model.add(layers.Dense(60, activation='relu', input_shape=(60,)))\n",
    "    model.add(layers.Dense(60, activation='relu'))\n",
    "    model.add(layers.Dense(1, activation='sigmoid'))\n",
    "    \n",
    "    model.compile(optimizer='adam',\n",
    "    loss='binary_crossentropy',\n",
    "    metrics=['accuracy'])\n",
    "    return model\n",
    "\n",
    "\n",
    "    "
   ]
  },
  {
   "cell_type": "code",
   "execution_count": 12,
   "metadata": {},
   "outputs": [
    {
     "name": "stdout",
     "output_type": "stream",
     "text": [
      "Result: 86.00%(6.81%)\n"
     ]
    }
   ],
   "source": [
    "estimator1=[]\n",
    "estimator1.append(('standarize',StandardScaler()))\n",
    "estimator1.append(('mlp',KerasClassifier(build_fn=create_baseline1\n",
    "                                         ,epochs=100,batch_size=5,verbose=0)))\n",
    "pipeline= Pipeline(estimator1)\n",
    "kfold = StratifiedKFold(n_splits=10,shuffle=True,random_state=seed)\n",
    "results1= cross_val_score(pipeline,X,le,cv=kfold)\n",
    "print(\"Result: %.2f%%(%.2f%%)\"%(results1.mean()*100,results1.std()*100))"
   ]
  },
  {
   "cell_type": "markdown",
   "metadata": {},
   "source": [
    "Model written using functional API "
   ]
  },
  {
   "cell_type": "code",
   "execution_count": 13,
   "metadata": {},
   "outputs": [],
   "source": [
    "from keras.layers import Input\n",
    "from keras.layers import Dense\n",
    "from keras.models import Model\n",
    "from keras.utils import plot_model\n",
    "\n",
    "def create_model_with_functionalAPI():\n",
    "    \n",
    "    visible = Input(shape=(60,))\n",
    "    hidden = Dense(16, activation='relu')(visible)\n",
    "    hidden1= Dense(16, activation='relu')(hidden)\n",
    "    output = Dense(1, activation='sigmoid')(hidden1)\n",
    "    model = Model(inputs=visible,outputs=output)\n",
    "  \n",
    "    model.compile(optimizer='adam',\n",
    "    loss='binary_crossentropy',\n",
    "    metrics=['accuracy'])\n",
    "    return model\n"
   ]
  },
  {
   "cell_type": "code",
   "execution_count": null,
   "metadata": {},
   "outputs": [],
   "source": [
    "\n",
    "estimator2=[]\n",
    "estimator2.append(('standarize',StandardScaler()))\n",
    "estimator2.append(('mlp',KerasClassifier(build_fn=create_model_with_functionalAPI\n",
    "                                         ,epochs=100,batch_size=5,verbose=0)))\n",
    "pipeline= Pipeline(estimator2)\n",
    "kfold = StratifiedKFold(n_splits=10,shuffle=True,random_state=seed)\n",
    "results1= cross_val_score(pipeline,X,le,cv=kfold)\n",
    "print(\"Result: %.2f%%(%.2f%%)\"%(results1.mean()*100,results1.std()*100))"
   ]
  },
  {
   "cell_type": "code",
   "execution_count": null,
   "metadata": {},
   "outputs": [],
   "source": [
    "results1.std()"
   ]
  },
  {
   "cell_type": "markdown",
   "metadata": {},
   "source": [
    "K_fold with out sklearn "
   ]
  },
  {
   "cell_type": "code",
   "execution_count": null,
   "metadata": {},
   "outputs": [],
   "source": [
    "import numpy as np\n",
    "k = 10\n",
    "data = len(X) // k\n",
    "num_epochs = 100\n",
    "all_scores = []"
   ]
  },
  {
   "cell_type": "code",
   "execution_count": null,
   "metadata": {},
   "outputs": [],
   "source": [
    "data"
   ]
  },
  {
   "cell_type": "code",
   "execution_count": null,
   "metadata": {},
   "outputs": [],
   "source": [
    "for i in range(k):\n",
    "    print('processing fold #', i)\n",
    "    val_data = X[i * data: (i + 1) * data]\n",
    "    val_targets = le[i * data: (i + 1) * data]\n",
    "    \n",
    "    partial_train_data = np.concatenate([X[:i * data],X[(i + 1) * data:]],axis=0)\n",
    "    partial_train_targets = np.concatenate([le [:i * data],le[(i + 1) * data:]],axis=0)\n",
    "    \n",
    "    model = create_baseline()\n",
    "    model.fit(partial_train_data, partial_train_targets,epochs=num_epochs, batch_size=5, verbose=0)\n",
    "    \n",
    "    val_mse, val_mae = model.evaluate(val_data,val_targets, verbose=0)\n",
    "    all_scores.append(val_mse)\n",
    "    "
   ]
  },
  {
   "cell_type": "code",
   "execution_count": null,
   "metadata": {},
   "outputs": [],
   "source": [
    "print(\"Result: %.2f%%(%.2f%%)\"%(np.mean(all_scores)*100,np.std(val_mae)*100))\n"
   ]
  },
  {
   "cell_type": "code",
   "execution_count": null,
   "metadata": {},
   "outputs": [],
   "source": [
    "k1 = 10\n",
    "num_validation_samples = len(X) // k1\n",
    "val_scores=[]\n",
    "for fold in range(k1):\n",
    "    validation_data =X[num_validation_samples * fold:\n",
    "        num_validation_samples * (fold + 1)]\n",
    "    \n",
    "    \n",
    "    training_data = X[:num_validation_samples * fold]+X[num_validation_samples * (fold + 1):]\n",
    "    model = create_baseline()\n",
    "    model.fit(X, le,epochs=100, batch_size=5, verbose=0)\n",
    "    val_score = model.evaluate(X,le,verbose=0)\n",
    "    val_scores.append(val_score)"
   ]
  },
  {
   "cell_type": "code",
   "execution_count": null,
   "metadata": {},
   "outputs": [],
   "source": [
    "np.mean(val_scores)*100"
   ]
  },
  {
   "cell_type": "code",
   "execution_count": null,
   "metadata": {},
   "outputs": [],
   "source": [
    "validation_score = np.average(val_scores)\n",
    "validation_score"
   ]
  },
  {
   "cell_type": "code",
   "execution_count": null,
   "metadata": {},
   "outputs": [],
   "source": [
    "val_scores"
   ]
  },
  {
   "cell_type": "code",
   "execution_count": null,
   "metadata": {},
   "outputs": [],
   "source": []
  }
 ],
 "metadata": {
  "kernelspec": {
   "display_name": "Python 3",
   "language": "python",
   "name": "python3"
  },
  "language_info": {
   "codemirror_mode": {
    "name": "ipython",
    "version": 3
   },
   "file_extension": ".py",
   "mimetype": "text/x-python",
   "name": "python",
   "nbconvert_exporter": "python",
   "pygments_lexer": "ipython3",
   "version": "3.6.4"
  }
 },
 "nbformat": 4,
 "nbformat_minor": 2
}
