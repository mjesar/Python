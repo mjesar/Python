{
 "cells": [
  {
   "cell_type": "code",
   "execution_count": 90,
   "metadata": {
    "collapsed": true
   },
   "outputs": [],
   "source": [
    "X= []\n",
    "import numpy as np "
   ]
  },
  {
   "cell_type": "code",
   "execution_count": 91,
   "metadata": {},
   "outputs": [],
   "source": [
    "for line in open(\"data_2d.csv\"):\n",
    "    row = line.split(',')\n",
    "    sample = map(float,row)\n",
    "    X.append(sample)\n",
    "    "
   ]
  },
  {
   "cell_type": "code",
   "execution_count": 92,
   "metadata": {},
   "outputs": [
    {
     "data": {
      "text/plain": [
       "[<map at 0x7b9ae48>,\n",
       " <map at 0x7b9aef0>,\n",
       " <map at 0x7b9af98>,\n",
       " <map at 0x7b9d080>,\n",
       " <map at 0x7b9d128>,\n",
       " <map at 0x7b9d1d0>,\n",
       " <map at 0x7b9d278>,\n",
       " <map at 0x7b9d320>,\n",
       " <map at 0x7b9d3c8>,\n",
       " <map at 0x7b9d470>,\n",
       " <map at 0x7b9d518>,\n",
       " <map at 0x7b9d5c0>,\n",
       " <map at 0x7b9d668>,\n",
       " <map at 0x7b9d710>,\n",
       " <map at 0x7b9d7b8>,\n",
       " <map at 0x7b9d860>,\n",
       " <map at 0x7b9d908>,\n",
       " <map at 0x7b9d9b0>,\n",
       " <map at 0x7b9da58>,\n",
       " <map at 0x7b9db00>,\n",
       " <map at 0x7b9dba8>,\n",
       " <map at 0x7b9dc50>,\n",
       " <map at 0x7b9dcf8>,\n",
       " <map at 0x7b9dda0>,\n",
       " <map at 0x7b9de48>,\n",
       " <map at 0x7b9def0>,\n",
       " <map at 0x7b9df98>,\n",
       " <map at 0x7b9f080>,\n",
       " <map at 0x7b9f128>,\n",
       " <map at 0x7b9f1d0>,\n",
       " <map at 0x7b9f278>,\n",
       " <map at 0x7b9f320>,\n",
       " <map at 0x7b9f3c8>,\n",
       " <map at 0x7b9f470>,\n",
       " <map at 0x7b9f518>,\n",
       " <map at 0x7b9f5c0>,\n",
       " <map at 0x7b9f668>,\n",
       " <map at 0x7b9f710>,\n",
       " <map at 0x7b9f7b8>,\n",
       " <map at 0x7b9f860>,\n",
       " <map at 0x7b9f908>,\n",
       " <map at 0x7b9f9b0>,\n",
       " <map at 0x7b9fa58>,\n",
       " <map at 0x7b9fb00>,\n",
       " <map at 0x7b9fba8>,\n",
       " <map at 0x7b9fc50>,\n",
       " <map at 0x7b9fcf8>,\n",
       " <map at 0x7b9fda0>,\n",
       " <map at 0x7b9fe48>,\n",
       " <map at 0x7b9fef0>,\n",
       " <map at 0x7b9ff98>,\n",
       " <map at 0x777ac50>,\n",
       " <map at 0x777ada0>,\n",
       " <map at 0x777a5c0>,\n",
       " <map at 0x777ae10>,\n",
       " <map at 0x777ae80>,\n",
       " <map at 0x777aef0>,\n",
       " <map at 0x777af60>,\n",
       " <map at 0x777a630>,\n",
       " <map at 0x7748940>,\n",
       " <map at 0x7748da0>,\n",
       " <map at 0x7748b38>,\n",
       " <map at 0x77705c0>,\n",
       " <map at 0x7770780>,\n",
       " <map at 0x7770208>,\n",
       " <map at 0x7770550>,\n",
       " <map at 0x7770e10>,\n",
       " <map at 0x7770978>,\n",
       " <map at 0x7770cf8>,\n",
       " <map at 0x7770ef0>,\n",
       " <map at 0x7770b70>,\n",
       " <map at 0x775b048>,\n",
       " <map at 0x77771d0>,\n",
       " <map at 0x7777240>,\n",
       " <map at 0x7777128>,\n",
       " <map at 0x7777320>,\n",
       " <map at 0x7777160>,\n",
       " <map at 0x7777278>,\n",
       " <map at 0x7777550>,\n",
       " <map at 0x7777668>,\n",
       " <map at 0x7ba1080>,\n",
       " <map at 0x7ba1128>,\n",
       " <map at 0x7ba11d0>,\n",
       " <map at 0x7ba1278>,\n",
       " <map at 0x7ba1320>,\n",
       " <map at 0x7ba13c8>,\n",
       " <map at 0x7ba1470>,\n",
       " <map at 0x7ba1518>,\n",
       " <map at 0x7ba15c0>,\n",
       " <map at 0x7ba1668>,\n",
       " <map at 0x7ba1710>,\n",
       " <map at 0x7ba17b8>,\n",
       " <map at 0x7ba1860>,\n",
       " <map at 0x7ba1908>,\n",
       " <map at 0x7ba19b0>,\n",
       " <map at 0x7ba1a58>,\n",
       " <map at 0x7ba1ac8>,\n",
       " <map at 0x7ba1b38>,\n",
       " <map at 0x7ba1be0>,\n",
       " <map at 0x7ba1c88>]"
      ]
     },
     "execution_count": 92,
     "metadata": {},
     "output_type": "execute_result"
    }
   ],
   "source": [
    "X"
   ]
  },
  {
   "cell_type": "code",
   "execution_count": 76,
   "metadata": {
    "collapsed": true
   },
   "outputs": [],
   "source": [
    "X= np.array(X)"
   ]
  },
  {
   "cell_type": "code",
   "execution_count": 77,
   "metadata": {},
   "outputs": [
    {
     "data": {
      "text/plain": [
       "(100,)"
      ]
     },
     "execution_count": 77,
     "metadata": {},
     "output_type": "execute_result"
    }
   ],
   "source": [
    "X.shape"
   ]
  },
  {
   "cell_type": "code",
   "execution_count": 97,
   "metadata": {},
   "outputs": [
    {
     "data": {
      "text/plain": [
       "pandas.core.frame.DataFrame"
      ]
     },
     "execution_count": 97,
     "metadata": {},
     "output_type": "execute_result"
    }
   ],
   "source": [
    "import pandas as pd \n",
    "Y = pd.read_csv(\"data_2d.csv\", header=None)\n",
    "type(Y)"
   ]
  },
  {
   "cell_type": "code",
   "execution_count": 98,
   "metadata": {},
   "outputs": [
    {
     "name": "stdout",
     "output_type": "stream",
     "text": [
      "<class 'pandas.core.frame.DataFrame'>\n",
      "RangeIndex: 100 entries, 0 to 99\n",
      "Data columns (total 3 columns):\n",
      "0    100 non-null float64\n",
      "1    100 non-null float64\n",
      "2    100 non-null float64\n",
      "dtypes: float64(3)\n",
      "memory usage: 2.4 KB\n"
     ]
    }
   ],
   "source": [
    "Y.info()"
   ]
  }
 ],
 "metadata": {
  "kernelspec": {
   "display_name": "Python 3",
   "language": "python",
   "name": "python3"
  },
  "language_info": {
   "codemirror_mode": {
    "name": "ipython",
    "version": 3
   },
   "file_extension": ".py",
   "mimetype": "text/x-python",
   "name": "python",
   "nbconvert_exporter": "python",
   "pygments_lexer": "ipython3",
   "version": "3.6.3"
  }
 },
 "nbformat": 4,
 "nbformat_minor": 2
}
