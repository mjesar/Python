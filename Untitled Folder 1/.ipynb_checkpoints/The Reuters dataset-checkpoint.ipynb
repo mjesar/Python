{
 "cells": [
  {
   "cell_type": "code",
   "execution_count": 38,
   "metadata": {},
   "outputs": [],
   "source": [
    "from keras.datasets import reuters"
   ]
  },
  {
   "cell_type": "code",
   "execution_count": 39,
   "metadata": {},
   "outputs": [],
   "source": [
    "(train_data,train_labels),(test_data,test_labels)=reuters.load_data(num_words=10000)"
   ]
  },
  {
   "cell_type": "code",
   "execution_count": 40,
   "metadata": {},
   "outputs": [
    {
     "data": {
      "text/plain": [
       "8982"
      ]
     },
     "execution_count": 40,
     "metadata": {},
     "output_type": "execute_result"
    }
   ],
   "source": [
    "len(train_data)\n"
   ]
  },
  {
   "cell_type": "code",
   "execution_count": 41,
   "metadata": {},
   "outputs": [
    {
     "data": {
      "text/plain": [
       "2246"
      ]
     },
     "execution_count": 41,
     "metadata": {},
     "output_type": "execute_result"
    }
   ],
   "source": [
    "len(test_data)"
   ]
  },
  {
   "cell_type": "code",
   "execution_count": 42,
   "metadata": {},
   "outputs": [
    {
     "data": {
      "text/plain": [
       "[1,\n",
       " 245,\n",
       " 273,\n",
       " 207,\n",
       " 156,\n",
       " 53,\n",
       " 74,\n",
       " 160,\n",
       " 26,\n",
       " 14,\n",
       " 46,\n",
       " 296,\n",
       " 26,\n",
       " 39,\n",
       " 74,\n",
       " 2979,\n",
       " 3554,\n",
       " 14,\n",
       " 46,\n",
       " 4689,\n",
       " 4329,\n",
       " 86,\n",
       " 61,\n",
       " 3499,\n",
       " 4795,\n",
       " 14,\n",
       " 61,\n",
       " 451,\n",
       " 4329,\n",
       " 17,\n",
       " 12]"
      ]
     },
     "execution_count": 42,
     "metadata": {},
     "output_type": "execute_result"
    }
   ],
   "source": [
    "train_data[10]"
   ]
  },
  {
   "cell_type": "code",
   "execution_count": 43,
   "metadata": {
    "collapsed": true
   },
   "outputs": [],
   "source": [
    "word_index= reuters.get_word_index()\n",
    "reverse_word_index= dict([(value,key) for (key,value) in word_index.items()])\n",
    "decoded_newswire=' '.join([reverse_word_index.get(i - 3,'?') for i in train_data[0]]) "
   ]
  },
  {
   "cell_type": "code",
   "execution_count": 44,
   "metadata": {},
   "outputs": [
    {
     "data": {
      "text/plain": [
       "'? ? ? said as a result of its december acquisition of space co it expects earnings per share in 1987 of 1 15 to 1 30 dlrs per share up from 70 cts in 1986 the company said pretax net should rise to nine to 10 mln dlrs from six mln dlrs in 1986 and rental operation revenues to 19 to 22 mln dlrs from 12 5 mln dlrs it said cash flow per share this year should be 2 50 to three dlrs reuter 3'"
      ]
     },
     "execution_count": 44,
     "metadata": {},
     "output_type": "execute_result"
    }
   ],
   "source": [
    "decoded_newswire"
   ]
  },
  {
   "cell_type": "code",
   "execution_count": 45,
   "metadata": {
    "collapsed": true
   },
   "outputs": [],
   "source": [
    "import numpy as np \n",
    "def vectorize_sequence(sequences,dimensions=10000):\n",
    "    results= np.zeros((len(sequences),dimensions))\n",
    "    for i,sequence in enumerate(sequences):\n",
    "        results[1,sequence]=1.\n",
    "    return results    \n",
    "x_train=vectorize_sequence(train_data)\n",
    "x_test=vectorize_sequence(test_data)"
   ]
  },
  {
   "cell_type": "code",
   "execution_count": 46,
   "metadata": {},
   "outputs": [],
   "source": [
    "from keras.utils.np_utils import to_categorical\n",
    "one_hot_train_labels = to_categorical(train_labels)\n",
    "one_hot_test_labels = to_categorical(test_labels)"
   ]
  },
  {
   "cell_type": "code",
   "execution_count": 47,
   "metadata": {},
   "outputs": [],
   "source": [
    "from keras import models\n",
    "from keras import layers\n",
    "\n",
    "model = models.Sequential()\n",
    "model.add(layers.Dense(64 ,activation='relu',input_shape=(10000,)))\n",
    "model.add(layers.Dense(64,activation='relu'))\n",
    "model.add(layers.Dense(46,activation='softmax'))\n"
   ]
  },
  {
   "cell_type": "code",
   "execution_count": 48,
   "metadata": {
    "collapsed": true
   },
   "outputs": [],
   "source": [
    "model.compile(optimizer='rmsprop',\n",
    "             loss='categorical_crossentropy',\n",
    "             metrics=['accuracy'])"
   ]
  },
  {
   "cell_type": "code",
   "execution_count": 49,
   "metadata": {
    "collapsed": true
   },
   "outputs": [],
   "source": [
    "x_val = x_train[:1000]\n",
    "partial_x_train = x_train[1000:]\n",
    "y_val = one_hot_train_labels[:1000]\n",
    "partial_y_train = one_hot_train_labels[1000:]"
   ]
  },
  {
   "cell_type": "code",
   "execution_count": 50,
   "metadata": {},
   "outputs": [
    {
     "name": "stdout",
     "output_type": "stream",
     "text": [
      "Train on 7982 samples, validate on 1000 samples\n",
      "Epoch 1/20\n",
      "7982/7982 [==============================] - 2s 262us/step - loss: 3.8118 - acc: 0.0680 - val_loss: 3.7972 - val_acc: 0.0590\n",
      "Epoch 2/20\n",
      "7982/7982 [==============================] - 2s 195us/step - loss: 3.7880 - acc: 0.1054 - val_loss: 3.7764 - val_acc: 0.2210\n",
      "Epoch 3/20\n",
      "7982/7982 [==============================] - 2s 197us/step - loss: 3.7675 - acc: 0.2164 - val_loss: 3.7564 - val_acc: 0.2210\n",
      "Epoch 4/20\n",
      "7982/7982 [==============================] - 2s 198us/step - loss: 3.7476 - acc: 0.2164 - val_loss: 3.7366 - val_acc: 0.2210\n",
      "Epoch 5/20\n",
      "7982/7982 [==============================] - 2s 197us/step - loss: 3.7279 - acc: 0.2313 - val_loss: 3.7171 - val_acc: 0.2210\n",
      "Epoch 6/20\n",
      "7982/7982 [==============================] - 2s 197us/step - loss: 3.7084 - acc: 0.2245 - val_loss: 3.6976 - val_acc: 0.3540\n",
      "Epoch 7/20\n",
      "7982/7982 [==============================] - 2s 198us/step - loss: 3.6889 - acc: 0.2278 - val_loss: 3.6783 - val_acc: 0.3540\n",
      "Epoch 8/20\n",
      "7982/7982 [==============================] - 2s 198us/step - loss: 3.6696 - acc: 0.3183 - val_loss: 3.6591 - val_acc: 0.2210\n",
      "Epoch 9/20\n",
      "7982/7982 [==============================] - 2s 199us/step - loss: 3.6504 - acc: 0.2350 - val_loss: 3.6401 - val_acc: 0.3540\n",
      "Epoch 10/20\n",
      "7982/7982 [==============================] - 2s 201us/step - loss: 3.6314 - acc: 0.3365 - val_loss: 3.6213 - val_acc: 0.3540\n",
      "Epoch 11/20\n",
      "7982/7982 [==============================] - 2s 198us/step - loss: 3.6126 - acc: 0.3027 - val_loss: 3.6026 - val_acc: 0.3540\n",
      "Epoch 12/20\n",
      "7982/7982 [==============================] - 2s 200us/step - loss: 3.5939 - acc: 0.3514 - val_loss: 3.5840 - val_acc: 0.3540\n",
      "Epoch 13/20\n",
      "7982/7982 [==============================] - 2s 201us/step - loss: 3.5754 - acc: 0.3514 - val_loss: 3.5656 - val_acc: 0.3540\n",
      "Epoch 14/20\n",
      "7982/7982 [==============================] - 2s 200us/step - loss: 3.5570 - acc: 0.3409 - val_loss: 3.5474 - val_acc: 0.3540\n",
      "Epoch 15/20\n",
      "7982/7982 [==============================] - 2s 198us/step - loss: 3.5388 - acc: 0.3406 - val_loss: 3.5293 - val_acc: 0.3540\n",
      "Epoch 16/20\n",
      "7982/7982 [==============================] - 2s 197us/step - loss: 3.5207 - acc: 0.3514 - val_loss: 3.5112 - val_acc: 0.3540\n",
      "Epoch 17/20\n",
      "7982/7982 [==============================] - 2s 198us/step - loss: 3.5028 - acc: 0.3514 - val_loss: 3.4935 - val_acc: 0.3540\n",
      "Epoch 18/20\n",
      "7982/7982 [==============================] - 2s 202us/step - loss: 3.4850 - acc: 0.3514 - val_loss: 3.4758 - val_acc: 0.3540\n",
      "Epoch 19/20\n",
      "7982/7982 [==============================] - 2s 202us/step - loss: 3.4675 - acc: 0.3514 - val_loss: 3.4584 - val_acc: 0.3540\n",
      "Epoch 20/20\n",
      "7982/7982 [==============================] - 2s 201us/step - loss: 3.4501 - acc: 0.3514 - val_loss: 3.4409 - val_acc: 0.3540\n"
     ]
    }
   ],
   "source": [
    "history= model.fit(partial_x_train,\n",
    "                   partial_y_train,\n",
    "                  epochs=20,\n",
    "                  batch_size=512,\n",
    "                  validation_data=(x_val,y_val))"
   ]
  },
  {
   "cell_type": "code",
   "execution_count": 51,
   "metadata": {},
   "outputs": [
    {
     "data": {
      "image/png": "[encoded data removed]",
      "text/plain": [
       "<matplotlib.figure.Figure at 0x10b4e828>"
      ]
     },
     "metadata": {},
     "output_type": "display_data"
    }
   ],
   "source": [
    "import matplotlib.pyplot as plt\n",
    "loss = history.history['loss']\n",
    "val_loss = history.history['val_loss']\n",
    "epochs = range(1, len(loss) + 1)\n",
    "plt.plot(epochs, loss, 'bo', label='Training loss')\n",
    "plt.plot(epochs, val_loss, 'b', label='Validation loss')\n",
    "plt.title('Training and validation loss')\n",
    "plt.xlabel('Epochs')\n",
    "plt.ylabel('Loss')\n",
    "plt.legend()\n",
    "plt.show()"
   ]
  },
  {
   "cell_type": "code",
   "execution_count": 52,
   "metadata": {},
   "outputs": [
    {
     "data": {
      "image/png": "[encoded data removed]",
      "text/plain": [
       "<matplotlib.figure.Figure at 0x10b4e5f8>"
      ]
     },
     "metadata": {},
     "output_type": "display_data"
    }
   ],
   "source": [
    "plt.clf()\n",
    "acc = history.history['acc']\n",
    "val_acc = history.history['val_acc']\n",
    "plt.plot(epochs, acc, 'bo', label='Training acc')\n",
    "plt.plot(epochs, val_acc, 'b', label='Validation acc')\n",
    "plt.title('Training and validation accuracy')\n",
    "plt.xlabel('Epochs')\n",
    "plt.ylabel('Loss')\n",
    "plt.legend()\n",
    "plt.show()\n"
   ]
  },
  {
   "cell_type": "code",
   "execution_count": null,
   "metadata": {
    "collapsed": true
   },
   "outputs": [],
   "source": []
  }
 ],
 "metadata": {
  "kernelspec": {
   "display_name": "Python 3",
   "language": "python",
   "name": "python3"
  },
  "language_info": {
   "codemirror_mode": {
    "name": "ipython",
    "version": 3
   },
   "file_extension": ".py",
   "mimetype": "text/x-python",
   "name": "python",
   "nbconvert_exporter": "python",
   "pygments_lexer": "ipython3",
   "version": "3.6.3"
  }
 },
 "nbformat": 4,
 "nbformat_minor": 2
}
