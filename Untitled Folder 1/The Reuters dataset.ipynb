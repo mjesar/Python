{
 "cells": [
  {
   "cell_type": "code",
   "execution_count": 1,
   "metadata": {},
   "outputs": [
    {
     "name": "stderr",
     "output_type": "stream",
     "text": [
      "Using TensorFlow backend.\n"
     ]
    }
   ],
   "source": [
    "from keras.datasets import reuters"
   ]
  },
  {
   "cell_type": "code",
   "execution_count": 2,
   "metadata": {
    "collapsed": true
   },
   "outputs": [],
   "source": [
    "(train_data,train_labels),(test_data,test_labels)=reuters.load_data(num_words=10000)"
   ]
  },
  {
   "cell_type": "code",
   "execution_count": 3,
   "metadata": {
    "collapsed": true
   },
   "outputs": [],
   "source": [
    "word_index= reuters.get_word_index()\n",
    "reverse_word_index= dict([(value,key) for (key,value) in word_index.items()])\n",
    "decoded_newswire=' '.join([reverse_word_index.get(i - 3,'?') for i in train_data[0]]) "
   ]
  },
  {
   "cell_type": "code",
   "execution_count": 4,
   "metadata": {},
   "outputs": [
    {
     "data": {
      "text/plain": [
       "'? ? ? said as a result of its december acquisition of space co it expects earnings per share in 1987 of 1 15 to 1 30 dlrs per share up from 70 cts in 1986 the company said pretax net should rise to nine to 10 mln dlrs from six mln dlrs in 1986 and rental operation revenues to 19 to 22 mln dlrs from 12 5 mln dlrs it said cash flow per share this year should be 2 50 to three dlrs reuter 3'"
      ]
     },
     "execution_count": 4,
     "metadata": {},
     "output_type": "execute_result"
    }
   ],
   "source": [
    "decoded_newswire"
   ]
  },
  {
   "cell_type": "code",
   "execution_count": 13,
   "metadata": {
    "collapsed": true
   },
   "outputs": [],
   "source": [
    "import numpy as np \n",
    "def vectorize_sequence(sequences,dimensions=10000):\n",
    "    results= np.zeros((len(sequences),dimensions))\n",
    "    for i,sequence in enumerate(sequences):\n",
    "        results[i,sequence]=1.\n",
    "    return results    \n",
    "x_train=vectorize_sequence(train_data)\n",
    "x_test=vectorize_sequence(test_data)"
   ]
  },
  {
   "cell_type": "code",
   "execution_count": 14,
   "metadata": {
    "collapsed": true
   },
   "outputs": [],
   "source": [
    "from keras.utils.np_utils import to_categorical\n",
    "one_hot_train_labels = to_categorical(train_labels)\n",
    "one_hot_test_labels = to_categorical(test_labels)"
   ]
  },
  {
   "cell_type": "code",
   "execution_count": 15,
   "metadata": {
    "collapsed": true
   },
   "outputs": [],
   "source": [
    "from keras import models\n",
    "from keras import layers\n",
    "\n",
    "model = models.Sequential()\n",
    "model.add(layers.Dense(64 ,activation='relu',input_shape=(10000,)))\n",
    "model.add(layers.Dense(64,activation='relu'))\n",
    "model.add(layers.Dense(46,activation='softmax'))\n"
   ]
  },
  {
   "cell_type": "code",
   "execution_count": 16,
   "metadata": {
    "collapsed": true
   },
   "outputs": [],
   "source": [
    "model.compile(optimizer='rmsprop',\n",
    "             loss='categorical_crossentropy',\n",
    "                 metrics=['accuracy'])"
   ]
  },
  {
   "cell_type": "code",
   "execution_count": 17,
   "metadata": {
    "collapsed": true
   },
   "outputs": [],
   "source": [
    "x_val = x_train[:1000]\n",
    "partial_x_train = x_train[1000:]\n",
    "y_val = one_hot_train_labels[:1000]\n",
    "partial_y_train = one_hot_train_labels[1000:]"
   ]
  },
  {
   "cell_type": "code",
   "execution_count": 18,
   "metadata": {},
   "outputs": [
    {
     "name": "stdout",
     "output_type": "stream",
     "text": [
      "Train on 7982 samples, validate on 1000 samples\n",
      "Epoch 1/20\n",
      "7982/7982 [==============================] - 2s 240us/step - loss: 2.5398 - acc: 0.5226 - val_loss: 1.6733 - val_acc: 0.6570\n",
      "Epoch 2/20\n",
      "7982/7982 [==============================] - 2s 234us/step - loss: 1.3711 - acc: 0.7121 - val_loss: 1.2756 - val_acc: 0.7200\n",
      "Epoch 3/20\n",
      "7982/7982 [==============================] - 2s 197us/step - loss: 1.0135 - acc: 0.7786 - val_loss: 1.1301 - val_acc: 0.7520\n",
      "Epoch 4/20\n",
      "7982/7982 [==============================] - 2s 197us/step - loss: 0.7973 - acc: 0.8252 - val_loss: 1.0533 - val_acc: 0.7580\n",
      "Epoch 5/20\n",
      "7982/7982 [==============================] - 2s 197us/step - loss: 0.6390 - acc: 0.8628 - val_loss: 0.9761 - val_acc: 0.7920\n",
      "Epoch 6/20\n",
      "7982/7982 [==============================] - 2s 197us/step - loss: 0.5122 - acc: 0.8919 - val_loss: 0.9107 - val_acc: 0.8120\n",
      "Epoch 7/20\n",
      "7982/7982 [==============================] - 2s 196us/step - loss: 0.4125 - acc: 0.9138 - val_loss: 0.8953 - val_acc: 0.8200\n",
      "Epoch 8/20\n",
      "7982/7982 [==============================] - 2s 195us/step - loss: 0.3358 - acc: 0.9285 - val_loss: 0.8742 - val_acc: 0.8270\n",
      "Epoch 9/20\n",
      "7982/7982 [==============================] - 2s 199us/step - loss: 0.2784 - acc: 0.9374 - val_loss: 0.9351 - val_acc: 0.8010\n",
      "Epoch 10/20\n",
      "7982/7982 [==============================] - 2s 195us/step - loss: 0.2316 - acc: 0.9465 - val_loss: 0.9139 - val_acc: 0.8160\n",
      "Epoch 11/20\n",
      "7982/7982 [==============================] - 2s 198us/step - loss: 0.2005 - acc: 0.9520 - val_loss: 0.9191 - val_acc: 0.8180\n",
      "Epoch 12/20\n",
      "7982/7982 [==============================] - 2s 196us/step - loss: 0.1821 - acc: 0.9518 - val_loss: 0.9272 - val_acc: 0.8160\n",
      "Epoch 13/20\n",
      "7982/7982 [==============================] - 2s 197us/step - loss: 0.1589 - acc: 0.9538 - val_loss: 0.9977 - val_acc: 0.8000\n",
      "Epoch 14/20\n",
      "7982/7982 [==============================] - 2s 199us/step - loss: 0.1471 - acc: 0.9558 - val_loss: 0.9660 - val_acc: 0.8050\n",
      "Epoch 15/20\n",
      "7982/7982 [==============================] - 2s 199us/step - loss: 0.1357 - acc: 0.9545 - val_loss: 0.9906 - val_acc: 0.8100\n",
      "Epoch 16/20\n",
      "7982/7982 [==============================] - 2s 196us/step - loss: 0.1278 - acc: 0.9560 - val_loss: 1.0309 - val_acc: 0.8000\n",
      "Epoch 17/20\n",
      "7982/7982 [==============================] - 2s 197us/step - loss: 0.1245 - acc: 0.9564 - val_loss: 0.9988 - val_acc: 0.8140\n",
      "Epoch 18/20\n",
      "7982/7982 [==============================] - 2s 194us/step - loss: 0.1160 - acc: 0.9588 - val_loss: 1.0160 - val_acc: 0.8180\n",
      "Epoch 19/20\n",
      "7982/7982 [==============================] - 2s 198us/step - loss: 0.1185 - acc: 0.9570 - val_loss: 1.0843 - val_acc: 0.8020\n",
      "Epoch 20/20\n",
      "7982/7982 [==============================] - 2s 196us/step - loss: 0.1105 - acc: 0.9575 - val_loss: 1.0591 - val_acc: 0.8150\n"
     ]
    }
   ],
   "source": [
    "history= model.fit(partial_x_train,\n",
    "                   partial_y_train,\n",
    "                   epochs=20,\n",
    "                   batch_size=512,\n",
    "                   validation_data=(x_val,y_val))"
   ]
  },
  {
   "cell_type": "code",
   "execution_count": 19,
   "metadata": {},
   "outputs": [
    {
     "data": {
      "image/png": "[encoded data removed]",
      "text/plain": [
       "<matplotlib.figure.Figure at 0xe4d1240>"
      ]
     },
     "metadata": {},
     "output_type": "display_data"
    }
   ],
   "source": [
    "import matplotlib.pyplot as plt\n",
    "loss = history.history['loss']\n",
    "val_loss = history.history['val_loss']\n",
    "epochs = range(1, len(loss) + 1)\n",
    "plt.plot(epochs, loss, 'bo', label='Training loss')\n",
    "plt.plot(epochs, val_loss, 'b', label='Validation loss')\n",
    "plt.title('Training and validation loss')\n",
    "plt.xlabel('Epochs')\n",
    "plt.ylabel('Loss')\n",
    "plt.legend()\n",
    "plt.show()"
   ]
  },
  {
   "cell_type": "code",
   "execution_count": 20,
   "metadata": {},
   "outputs": [
    {
     "data": {
      "image/png": "[encoded data removed]",
      "text/plain": [
       "<matplotlib.figure.Figure at 0xe4e7320>"
      ]
     },
     "metadata": {},
     "output_type": "display_data"
    }
   ],
   "source": [
    "plt.clf()\n",
    "acc = history.history['acc']\n",
    "val_acc = history.history['val_acc']\n",
    "plt.plot(epochs, acc, 'bo', label='Training acc')\n",
    "plt.plot(epochs, val_acc, 'b', label='Validation acc')\n",
    "plt.title('Training and validation accuracy')\n",
    "plt.xlabel('Epochs')\n",
    "plt.ylabel('Loss')\n",
    "plt.legend()\n",
    "plt.show()\n"
   ]
  },
  {
   "cell_type": "code",
   "execution_count": 58,
   "metadata": {},
   "outputs": [
    {
     "name": "stdout",
     "output_type": "stream",
     "text": [
      "Train on 7982 samples, validate on 1000 samples\n",
      "Epoch 1/9\n",
      "7982/7982 [==============================] - 2s 272us/step - loss: 2.5520 - acc: 0.5340 - val_loss: 1.6638 - val_acc: 0.6480\n",
      "Epoch 2/9\n",
      "7982/7982 [==============================] - 2s 218us/step - loss: 1.3704 - acc: 0.7147 - val_loss: 1.2734 - val_acc: 0.7280\n",
      "Epoch 3/9\n",
      "7982/7982 [==============================] - 2s 206us/step - loss: 1.0318 - acc: 0.7784 - val_loss: 1.1333 - val_acc: 0.7510\n",
      "Epoch 4/9\n",
      "7982/7982 [==============================] - 2s 198us/step - loss: 0.8166 - acc: 0.8280 - val_loss: 1.0448 - val_acc: 0.7710\n",
      "Epoch 5/9\n",
      "7982/7982 [==============================] - 2s 200us/step - loss: 0.6572 - acc: 0.8609 - val_loss: 1.0395 - val_acc: 0.7670\n",
      "Epoch 6/9\n",
      "7982/7982 [==============================] - 2s 201us/step - loss: 0.5342 - acc: 0.8900 - val_loss: 0.9491 - val_acc: 0.8130\n",
      "Epoch 7/9\n",
      "7982/7982 [==============================] - 2s 200us/step - loss: 0.4250 - acc: 0.9089 - val_loss: 0.9103 - val_acc: 0.8160\n",
      "Epoch 8/9\n",
      "7982/7982 [==============================] - 2s 200us/step - loss: 0.3518 - acc: 0.9225 - val_loss: 0.9357 - val_acc: 0.8080\n",
      "Epoch 9/9\n",
      "7982/7982 [==============================] - 2s 224us/step - loss: 0.2889 - acc: 0.9356 - val_loss: 0.9192 - val_acc: 0.8150\n",
      "2246/2246 [==============================] - 0s 214us/step\n"
     ]
    }
   ],
   "source": [
    "model = models.Sequential()\n",
    "model.add(layers.Dense(64,activation='relu',input_shape=(10000,)))\n",
    "model.add(layers.Dense(64, activation='relu'))\n",
    "\n",
    "\n",
    "model.add(layers.Dense(46,activation='softmax'))\n",
    "\n",
    "model.compile(optimizer='rmsprop',\n",
    "              loss='categorical_crossentropy',\n",
    "              metrics=['accuracy'])\n",
    "\n",
    "model.fit(partial_x_train,\n",
    "         partial_y_train,\n",
    "         epochs=9,\n",
    "         batch_size=512,\n",
    "         validation_data=(x_val,y_val))\n",
    "results = model.evaluate(x_test, one_hot_test_labels)\n"
   ]
  },
  {
   "cell_type": "code",
   "execution_count": 59,
   "metadata": {},
   "outputs": [
    {
     "data": {
      "text/plain": [
       "[1.0196394442662742, 0.78049866429207482]"
      ]
     },
     "execution_count": 59,
     "metadata": {},
     "output_type": "execute_result"
    }
   ],
   "source": [
    "results"
   ]
  },
  {
   "cell_type": "code",
   "execution_count": 56,
   "metadata": {
    "collapsed": true
   },
   "outputs": [],
   "source": [
    "predictions = model.predict(x_test)"
   ]
  },
  {
   "cell_type": "code",
   "execution_count": 38,
   "metadata": {},
   "outputs": [
    {
     "data": {
      "text/plain": [
       "(46,)"
      ]
     },
     "execution_count": 38,
     "metadata": {},
     "output_type": "execute_result"
    }
   ],
   "source": [
    "predictions[0].shape"
   ]
  },
  {
   "cell_type": "code",
   "execution_count": 39,
   "metadata": {},
   "outputs": [
    {
     "data": {
      "text/plain": [
       "1.0"
      ]
     },
     "execution_count": 39,
     "metadata": {},
     "output_type": "execute_result"
    }
   ],
   "source": [
    "np.sum(predictions[0])"
   ]
  },
  {
   "cell_type": "code",
   "execution_count": 42,
   "metadata": {},
   "outputs": [
    {
     "data": {
      "text/plain": [
       "4"
      ]
     },
     "execution_count": 42,
     "metadata": {},
     "output_type": "execute_result"
    }
   ],
   "source": [
    "np.argmax(predictions[0])"
   ]
  },
  {
   "cell_type": "code",
   "execution_count": null,
   "metadata": {
    "collapsed": true
   },
   "outputs": [],
   "source": []
  }
 ],
 "metadata": {
  "kernelspec": {
   "display_name": "Python 3",
   "language": "python",
   "name": "python3"
  },
  "language_info": {
   "codemirror_mode": {
    "name": "ipython",
    "version": 3
   },
   "file_extension": ".py",
   "mimetype": "text/x-python",
   "name": "python",
   "nbconvert_exporter": "python",
   "pygments_lexer": "ipython3",
   "version": "3.6.3"
  }
 },
 "nbformat": 4,
 "nbformat_minor": 2
}
