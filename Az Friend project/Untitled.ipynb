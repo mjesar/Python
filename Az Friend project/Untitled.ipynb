{
 "cells": [
  {
   "cell_type": "code",
   "execution_count": 2,
   "metadata": {},
   "outputs": [],
   "source": [
    "import numpy as np \n",
    "import netCDF4 as Dataset\n",
    "import xarray as xr"
   ]
  },
  {
   "cell_type": "code",
   "execution_count": 3,
   "metadata": {},
   "outputs": [],
   "source": [
    "url = 'http://www.ncei.noaa.gov/thredds/dodsC/gfs-003-files/201903/20190306/gfs_3_20190306_1200_384.grb2'\n",
    "ds = xr.open_dataset(url, engine='netcdf4')  # or engine='pydap'"
   ]
  },
  {
   "cell_type": "code",
   "execution_count": 4,
   "metadata": {},
   "outputs": [
    {
     "data": {
      "text/plain": [
       "<function ndarray.astype>"
      ]
     },
     "execution_count": 4,
     "metadata": {},
     "output_type": "execute_result"
    }
   ],
   "source": [
    "wvs=ds.variables[\"v-component_of_wind_sigma\"]\n",
    "a=wvs.values\n",
    "a.astype\n"
   ]
  },
  {
   "cell_type": "code",
   "execution_count": 5,
   "metadata": {},
   "outputs": [
    {
     "data": {
      "text/plain": [
       "array([[-0.05126221]], dtype=float32)"
      ]
     },
     "execution_count": 5,
     "metadata": {},
     "output_type": "execute_result"
    }
   ],
   "source": [
    "np.save('component_of_wind_sigma', a)\n",
    "loaded_array = np.load('component_of_wind_sigma.npy')\n",
    "\n",
    "loaded_array[:,:,180,350 ]\n",
    "\n",
    "# np.savetxt('test.csv',a,delimiter=',', fmt=('%f, %f, %f ,%f'))\n",
    "\n",
    "# import pandas as pd \n",
    "# pd.DataFrame(a).to_csv(\"file.csv\")"
   ]
  },
  {
   "cell_type": "code",
   "execution_count": 6,
   "metadata": {},
   "outputs": [
    {
     "data": {
      "text/plain": [
       "<xarray.DataArray 'lon' (lon: 360)>\n",
       "array([  0.,   1.,   2., ..., 357., 358., 359.], dtype=float32)\n",
       "Coordinates:\n",
       "  * lon      (lon) float32 0.0 1.0 2.0 3.0 4.0 ... 355.0 356.0 357.0 358.0 359.0\n",
       "    reftime  datetime64[ns] ...\n",
       "Attributes:\n",
       "    units:    degrees_east"
      ]
     },
     "execution_count": 6,
     "metadata": {},
     "output_type": "execute_result"
    }
   ],
   "source": [
    "ds.Absolute_vorticity_isobaric.lon"
   ]
  },
  {
   "cell_type": "code",
   "execution_count": 7,
   "metadata": {},
   "outputs": [
    {
     "data": {
      "text/plain": [
       "<xarray.Variable (time: 1, sigma: 1, lat: 181, lon: 360)>\n",
       "array([[[[ 1.158738, ...,  1.238738],\n",
       "         ...,\n",
       "         [-0.831262, ..., -0.751262]]]], dtype=float32)\n",
       "Attributes:\n",
       "    long_name:                      v-component of wind @ Sigma level\n",
       "    units:                          m/s\n",
       "    abbreviation:                   VGRD\n",
       "    grid_mapping:                   LatLon_Projection\n",
       "    Grib_Variable_Id:               VAR_0-2-3_L104\n",
       "    Grib2_Parameter:                [0 2 3]\n",
       "    Grib2_Parameter_Discipline:     Meteorological products\n",
       "    Grib2_Parameter_Category:       Momentum\n",
       "    Grib2_Parameter_Name:           v-component of wind\n",
       "    Grib2_Level_Type:               104\n",
       "    Grib2_Level_Desc:               Sigma level\n",
       "    Grib2_Generating_Process_Type:  Forecast"
      ]
     },
     "execution_count": 7,
     "metadata": {},
     "output_type": "execute_result"
    }
   ],
   "source": [
    "wvs\n"
   ]
  },
  {
   "cell_type": "code",
   "execution_count": 8,
   "metadata": {},
   "outputs": [
    {
     "data": {
      "text/plain": [
       "<xarray.DataArray 'lat' (lat: 181)>\n",
       "array([ 90.,  89.,  88.,  87.,  86.,  85.,  84.,  83.,  82.,  81.,  80.,  79.,\n",
       "        78.,  77.,  76.,  75.,  74.,  73.,  72.,  71.,  70.,  69.,  68.,  67.,\n",
       "        66.,  65.,  64.,  63.,  62.,  61.,  60.,  59.,  58.,  57.,  56.,  55.,\n",
       "        54.,  53.,  52.,  51.,  50.,  49.,  48.,  47.,  46.,  45.,  44.,  43.,\n",
       "        42.,  41.,  40.,  39.,  38.,  37.,  36.,  35.,  34.,  33.,  32.,  31.,\n",
       "        30.,  29.,  28.,  27.,  26.,  25.,  24.,  23.,  22.,  21.,  20.,  19.,\n",
       "        18.,  17.,  16.,  15.,  14.,  13.,  12.,  11.,  10.,   9.,   8.,   7.,\n",
       "         6.,   5.,   4.,   3.,   2.,   1.,   0.,  -1.,  -2.,  -3.,  -4.,  -5.,\n",
       "        -6.,  -7.,  -8.,  -9., -10., -11., -12., -13., -14., -15., -16., -17.,\n",
       "       -18., -19., -20., -21., -22., -23., -24., -25., -26., -27., -28., -29.,\n",
       "       -30., -31., -32., -33., -34., -35., -36., -37., -38., -39., -40., -41.,\n",
       "       -42., -43., -44., -45., -46., -47., -48., -49., -50., -51., -52., -53.,\n",
       "       -54., -55., -56., -57., -58., -59., -60., -61., -62., -63., -64., -65.,\n",
       "       -66., -67., -68., -69., -70., -71., -72., -73., -74., -75., -76., -77.,\n",
       "       -78., -79., -80., -81., -82., -83., -84., -85., -86., -87., -88., -89.,\n",
       "       -90.], dtype=float32)\n",
       "Coordinates:\n",
       "  * lat      (lat) float32 90.0 89.0 88.0 87.0 86.0 ... -87.0 -88.0 -89.0 -90.0\n",
       "    reftime  datetime64[ns] ...\n",
       "Attributes:\n",
       "    units:    degrees_north"
      ]
     },
     "execution_count": 8,
     "metadata": {},
     "output_type": "execute_result"
    }
   ],
   "source": [
    "#  lat, lon = 64.1353, -21.8952\n",
    "\n",
    "ds.Temperature_sigma.lat"
   ]
  },
  {
   "cell_type": "code",
   "execution_count": 9,
   "metadata": {},
   "outputs": [],
   "source": [
    "import datetime as dt\n",
    "import xarray as xr\n",
    "date = dt.datetime.now()\n",
    "year = '{:04d}'.format(2019)\n",
    "month='{:02d}'.format(3)\n",
    "day='{:02d}'.format(6)\n",
    "horizon_start = 0;\n",
    "horizon = 26;\n",
    "hours = ['00', '06', '12', '18']"
   ]
  },
  {
   "cell_type": "code",
   "execution_count": null,
   "metadata": {},
   "outputs": [
    {
     "name": "stdout",
     "output_type": "stream",
     "text": [
      "6.9132447\n",
      "2.7937646\n",
      "8.995501\n",
      "0.97124267\n",
      "10.751675\n",
      "-1.473645\n",
      "13.334048\n",
      "-2.4514942\n",
      "14.217517\n",
      "-1.8456787\n",
      "12.807407\n",
      "-1.1448584\n",
      "10.910884\n",
      "-0.4692505\n",
      "10.068103\n",
      "-0.57351804\n",
      "8.635881\n",
      "-1.2174\n",
      "6.8028393\n",
      "3.9424438\n",
      "5.397429\n",
      "10.614014\n",
      "0.15925048\n",
      "8.2430105\n",
      "-4.9108033\n",
      "6.424519\n",
      "-8.033091\n",
      "12.292388\n",
      "-9.512315\n",
      "13.197466\n",
      "-5.869104\n",
      "13.321895\n",
      "-0.6758789\n",
      "12.226797\n",
      "1.217063\n",
      "10.935761\n",
      "1.8582081\n",
      "8.921928\n",
      "3.2371314\n",
      "7.6953344\n",
      "-1.6078857\n",
      "8.040693\n",
      "0.16937256\n",
      "7.1278343\n",
      "-3.3028393\n",
      "7.6470046\n",
      "-1.408042\n",
      "7.7856984\n",
      "1.13094\n",
      "7.0456667\n",
      "4.3209767\n",
      "5.4877224\n",
      "11.7388525\n",
      "-1.405918\n",
      "13.460249\n"
     ]
    }
   ],
   "source": [
    "for j in hours:\n",
    "    jstr = str(j);\n",
    "    for k in range(horizon_start,horizon):\n",
    "        kstr = \"{0:0=3d}\".format(3 * k)\n",
    "        url = 'http://www.ncei.noaa.gov/thredds/dodsC/gfs-003-files/'+year+month+'/'+year+month+day+'/gfs_3_'+year+month+day+'_'+jstr+'00_'+kstr+'.grb2'\n",
    "        nc = xr.open_dataset(url, engine='netcdf4')\n",
    "        #v-component_of_wind_height_above_ground\n",
    "        wvh=nc.variables['v-component_of_wind_height_above_ground']\n",
    "        wvh_value=wvh.values\n",
    "        v_component_of_wind_height_above_ground_80m = wvh_value[0,1,25,68]\n",
    "        print(v_component_of_wind_height_above_ground_80m)\n",
    "        wuh=nc.variables['u-component_of_wind_height_above_ground']\n",
    "        wuh_value=wuh.values\n",
    "        u_component_of_wind_height_above_ground_80m = wuh_value[0,1,25,68]\n",
    "        print(u_component_of_wind_height_above_ground_80m)"
   ]
  },
  {
   "cell_type": "code",
   "execution_count": null,
   "metadata": {},
   "outputs": [],
   "source": []
  },
  {
   "cell_type": "code",
   "execution_count": null,
   "metadata": {},
   "outputs": [],
   "source": []
  }
 ],
 "metadata": {
  "kernelspec": {
   "display_name": "Python 3",
   "language": "python",
   "name": "python3"
  },
  "language_info": {
   "codemirror_mode": {
    "name": "ipython",
    "version": 3
   },
   "file_extension": ".py",
   "mimetype": "text/x-python",
   "name": "python",
   "nbconvert_exporter": "python",
   "pygments_lexer": "ipython3",
   "version": "3.6.6"
  }
 },
 "nbformat": 4,
 "nbformat_minor": 2
}
